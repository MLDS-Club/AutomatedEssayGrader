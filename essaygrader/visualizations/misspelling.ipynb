{
 "metadata": {
  "language_info": {
   "codemirror_mode": {
    "name": "ipython",
    "version": 3
   },
   "file_extension": ".py",
   "mimetype": "text/x-python",
   "name": "python",
   "nbconvert_exporter": "python",
   "pygments_lexer": "ipython3",
   "version": 3
  },
  "orig_nbformat": 2
 },
 "nbformat": 4,
 "nbformat_minor": 2,
 "cells": [
  {
   "cell_type": "code",
   "execution_count": null,
   "metadata": {},
   "outputs": [],
   "source": [
    "import numpy as np\n",
    "import pandas as pd\n",
    "import matplotlib.pyplot as plt\n",
    "from scipy.optimize import curve_fit"
   ]
  },
  {
   "cell_type": "code",
   "execution_count": null,
   "metadata": {},
   "outputs": [],
   "source": [
    "df = pd.read_feather('data/essays.feather')"
   ]
  },
  {
   "cell_type": "code",
   "execution_count": null,
   "metadata": {},
   "outputs": [],
   "source": [
    "misspellings = df['misspelled'].values\n",
    "length = df['word_count']\n",
    "\n",
    "normalized = misspellings / length\n",
    "scores = df['domain1_score'].values"
   ]
  },
  {
   "cell_type": "code",
   "execution_count": null,
   "metadata": {},
   "outputs": [],
   "source": [
    "def linear(x, a, b): # shape of line to fit | y=a*x+b\n",
    "\treturn a * x + b"
   ]
  },
  {
   "cell_type": "code",
   "execution_count": null,
   "metadata": {},
   "outputs": [],
   "source": [
    "optimal, covariance = curve_fit(linear, normalized, scores)"
   ]
  },
  {
   "cell_type": "code",
   "execution_count": null,
   "metadata": {},
   "outputs": [],
   "source": [
    "fig, ax = plt.subplots(figsize=(10, 5))\n",
    "\n",
    "# plot the misspellings vs scores\n",
    "ax.scatter(normalized, scores, s=10, label='data')\n",
    "\n",
    "# best fit line\n",
    "ax.plot(normalized, linear(normalized, *optimal), 'r-', label='fit')\n",
    "\n",
    "# title the graph\n",
    "ax.set_title('Misspellings vs. Scores')\n",
    "\n",
    "# add subtitle\n",
    "\n",
    "\n",
    "# label the axes\n",
    "ax.set_xlabel('Misspellings / Word Count')\n",
    "ax.set_ylabel('Score')\n",
    "\n",
    "# show the equation\n",
    "ax.text(0.05, 0.95, 'y = {:.2f}x + {:.2f}'.format(*optimal), ha='left', va='top', transform=ax.transAxes)\n",
    "\n",
    "fig.savefig('plots/misspellings_vs_score.svg')"
   ]
  }
 ]
}