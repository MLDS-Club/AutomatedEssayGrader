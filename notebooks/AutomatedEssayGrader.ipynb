{
  "cells": [
    {
      "cell_type": "markdown",
      "metadata": {
        "colab_type": "text",
        "id": "view-in-github"
      },
      "source": [
        "<a href=\"https://colab.research.google.com/github/Nazarshia2889/AutomatedEssayGrader/blob/main/notebooks/AutomatedEssayGrader.ipynb\" target=\"_parent\"><img src=\"https://colab.research.google.com/assets/colab-badge.svg\" alt=\"Open In Colab\"/></a>"
      ]
    },
    {
      "cell_type": "code",
      "execution_count": 1,
      "metadata": {
        "id": "izXMTtICIJid"
      },
      "outputs": [],
      "source": [
        "import pandas as pd"
      ]
    },
    {
      "cell_type": "code",
      "execution_count": 5,
      "metadata": {},
      "outputs": [
        {
          "data": {
            "text/plain": [
              "Index(['essay_id', 'essay_set', 'essay', 'rater1_domain1', 'rater2_domain1',\n",
              "       'rater3_domain1', 'domain1_score', 'rater1_domain2', 'rater2_domain2',\n",
              "       'domain2_score', 'rater1_trait1', 'rater1_trait2', 'rater1_trait3',\n",
              "       'rater1_trait4', 'rater1_trait5', 'rater1_trait6', 'rater2_trait1',\n",
              "       'rater2_trait2', 'rater2_trait3', 'rater2_trait4', 'rater2_trait5',\n",
              "       'rater2_trait6', 'rater3_trait1', 'rater3_trait2', 'rater3_trait3',\n",
              "       'rater3_trait4', 'rater3_trait5', 'rater3_trait6'],\n",
              "      dtype='object')"
            ]
          },
          "execution_count": 5,
          "metadata": {},
          "output_type": "execute_result"
        }
      ],
      "source": [
        "df = pd.read_csv('data/training_set_rel3.tsv', sep='\\t', encoding='ISO-8859-1')\n",
        "df.columns\n",
        "\n",
        "# essay_id: A unique identifier for each individual student essay\n",
        "# essay_set: 1-8, an id for each set of essays\n",
        "# essay: The ascii text of a student's response\n",
        "# rater1_domain1: Rater 1's domain 1 score; all essays have this\n",
        "# rater2_domain1: Rater 2's domain 1 score; all essays have this\n",
        "# rater3_domain1: Rater 3's domain 1 score; only some essays in set 8 have this.\n",
        "# domain1_score: Resolved score between the raters; all essays have this\n",
        "# rater1_domain2: Rater 1's domain 2 score; only essays in set 2 have this\n",
        "# rater2_domain2: Rater 2's domain 2 score; only essays in set 2 have this\n",
        "# domain2_score: Resolved score between the raters; only essays in set 2 have this\n",
        "# rater1_trait1 score - rater3_trait6 score: trait scores for sets 7-8"
      ]
    }
  ],
  "metadata": {
    "colab": {
      "authorship_tag": "ABX9TyPk46mrjuqm8bYHWda4ghV8",
      "include_colab_link": true,
      "name": "AutomatedEssayGrader.ipynb",
      "provenance": []
    },
    "kernelspec": {
      "display_name": "Python 3.9.7 64-bit",
      "metadata": {
        "interpreter": {
          "hash": "9fdb9160099e666fbe1246fdc3611df6e34403c4a50d97f5ca90d3cacc6ef812"
        }
      },
      "name": "python3"
    },
    "language_info": {
      "codemirror_mode": {
        "name": "ipython",
        "version": 3
      },
      "file_extension": ".py",
      "mimetype": "text/x-python",
      "name": "python",
      "nbconvert_exporter": "python",
      "pygments_lexer": "ipython3",
      "version": "3.9.7"
    }
  },
  "nbformat": 4,
  "nbformat_minor": 0
}
