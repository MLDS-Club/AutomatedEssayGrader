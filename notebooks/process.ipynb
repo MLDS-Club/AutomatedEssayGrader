{
 "cells": [
  {
   "cell_type": "code",
   "execution_count": 3,
   "metadata": {},
   "outputs": [],
   "source": [
    "import pandas as pd\n",
    "import enchant"
   ]
  },
  {
   "cell_type": "code",
   "execution_count": 2,
   "metadata": {},
   "outputs": [],
   "source": [
    "df = pd.read_feather('data/essays.feather')"
   ]
  },
  {
   "cell_type": "markdown",
   "metadata": {},
   "source": [
    "# Misspelled Words"
   ]
  },
  {
   "cell_type": "code",
   "execution_count": null,
   "metadata": {},
   "outputs": [],
   "source": [
    "d = enchant.Dict(\"en_US\")"
   ]
  },
  {
   "cell_type": "code",
   "execution_count": null,
   "metadata": {},
   "outputs": [],
   "source": [
    "def nmisspelled(essay: str) -> int:\n",
    "\treturn sum([1 for word in essay.split() if not d.check(word)])"
   ]
  },
  {
   "cell_type": "code",
   "execution_count": null,
   "metadata": {},
   "outputs": [],
   "source": [
    "df['misspelled'] = df['essay'].swifter.apply(nmisspelled)"
   ]
  },
  {
   "cell_type": "markdown",
   "metadata": {},
   "source": [
    "# Remove Punctuation"
   ]
  },
  {
   "cell_type": "code",
   "execution_count": null,
   "metadata": {},
   "outputs": [],
   "source": [
    "tokenizer = RegexpTokenizer(r'\\w+')"
   ]
  },
  {
   "cell_type": "code",
   "execution_count": null,
   "metadata": {},
   "outputs": [
    {
     "data": {
      "text/plain": [
       "'Dear local newspaper I think effects computers have on people are great learning skills affects because they give us time to chat with friends new people helps us learn about the globe astronomy and keeps us out of troble Thing about Dont you think so How would you feel if your teenager is always on the phone with friends Do you ever time to chat with your friends or buisness partner about things Well now there s a new way to chat the computer theirs plenty of sites on the internet to do so ORGANIZATION1 ORGANIZATION2 CAPS1 facebook myspace ect Just think now while your setting up meeting with your boss on the computer your teenager is having fun on the phone not rushing to get off cause you want to use it How did you learn about other countrys states outside of yours Well I have by computer internet it s a new way to learn about what going on in our time You might think your child spends a lot of time on the computer but ask them so question about the economy sea floor spreading or even about the DATE1 s you ll be surprise at how much he she knows Believe it or not the computer is much interesting then in class all day reading out of books If your child is home on your computer or at a local library it s better than being out with friends being fresh or being perpressured to doing something they know isnt right You might not know where your child is CAPS2 forbidde in a hospital bed because of a drive by Rather than your child on the computer learning chatting or just playing games safe and sound in your home or community place Now I hope you have reached a point to understand and agree with me because computers can have great effects on you or child because it gives us time to chat with friends new people helps us learn about the globe and believe or not keeps us out of troble Thank you for listening'"
      ]
     },
     "metadata": {},
     "output_type": "display_data"
    }
   ],
   "source": [
    "df['cleaned_essay'] = df['essay'].apply(lambda x: tokenizer.tokenize(x))\n",
    "' '.join(df['cleaned_essay'].iloc[0])\n",
    "# df['essay'].iloc[0]"
   ]
  }
 ],
 "metadata": {
  "interpreter": {
   "hash": "9fdb9160099e666fbe1246fdc3611df6e34403c4a50d97f5ca90d3cacc6ef812"
  },
  "kernelspec": {
   "display_name": "Python 3.9.7 64-bit",
   "language": "python",
   "name": "python3"
  },
  "language_info": {
   "codemirror_mode": {
    "name": "ipython",
    "version": 3
   },
   "file_extension": ".py",
   "mimetype": "text/x-python",
   "name": "python",
   "nbconvert_exporter": "python",
   "pygments_lexer": "ipython3",
   "version": "3.9.7"
  },
  "orig_nbformat": 4
 },
 "nbformat": 4,
 "nbformat_minor": 2
}
