{
  "cells": [
    {
      "cell_type": "markdown",
      "metadata": {
        "colab_type": "text",
        "id": "view-in-github"
      },
      "source": [
        "<a href=\"https://colab.research.google.com/github/Nazarshia2889/AutomatedEssayGrader/blob/main/notebooks/AutomatedEssayGrader.ipynb\" target=\"_parent\"><img src=\"https://colab.research.google.com/assets/colab-badge.svg\" alt=\"Open In Colab\"/></a>"
      ]
    },
    {
      "cell_type": "code",
      "execution_count": 1,
      "metadata": {
        "id": "izXMTtICIJid"
      },
      "outputs": [],
      "source": [
        "import pandas as pd # read feather does not work with modin pandas\n",
        "# import modin.pandas as pd # faster multithreaded version of pandas (i think) - noticeable difference when using apply() method\n",
        "import swifter # speed up pandas apply\n",
        "\n",
        "# from tqdm import tqdm # progress indicator for pandas operations\n",
        "from tqdm.notebook import tqdm\n",
        "\n",
        "import matplotlib.pyplot as plt\n",
        "\n",
        "%matplotlib inline\n",
        "\n",
        "tqdm.pandas()"
      ]
    },
    {
      "cell_type": "code",
      "execution_count": 3,
      "metadata": {},
      "outputs": [
        {
          "data": {
            "text/plain": [
              "Index(['essay_id', 'essay_set', 'essay', 'rater1_domain1', 'rater2_domain1',\n",
              "       'rater3_domain1', 'domain1_score', 'rater1_domain2', 'rater2_domain2',\n",
              "       'domain2_score', 'rater1_trait1', 'rater1_trait2', 'rater1_trait3',\n",
              "       'rater1_trait4', 'rater1_trait5', 'rater1_trait6', 'rater2_trait1',\n",
              "       'rater2_trait2', 'rater2_trait3', 'rater2_trait4', 'rater2_trait5',\n",
              "       'rater2_trait6', 'rater3_trait1', 'rater3_trait2', 'rater3_trait3',\n",
              "       'rater3_trait4', 'rater3_trait5', 'rater3_trait6', 'word_count'],\n",
              "      dtype='object')"
            ]
          },
          "execution_count": 3,
          "metadata": {},
          "output_type": "execute_result"
        }
      ],
      "source": [
        "df = pd.read_feather('data/processed.feather')\n",
        "df.columns\n",
        "\n",
        "# essay_id: A unique identifier for each individual student essay\n",
        "# essay_set: 1-8, an id for each set of essays\n",
        "# essay: The ascii text of a student's response\n",
        "# rater1_domain1: Rater 1's domain 1 score; all essays have this\n",
        "# rater2_domain1: Rater 2's domain 1 score; all essays have this\n",
        "# rater3_domain1: Rater 3's domain 1 score; only some essays in set 8 have this.\n",
        "# domain1_score: Resolved score between the raters; all essays have this\n",
        "# rater1_domain2: Rater 1's domain 2 score; only essays in set 2 have this\n",
        "# rater2_domain2: Rater 2's domain 2 score; only essays in set 2 have this\n",
        "# domain2_score: Resolved score between the raters; only essays in set 2 have this\n",
        "# rater1_trait1 score - rater3_trait6 score: trait scores for sets 7-8"
      ]
    },
    {
      "cell_type": "markdown",
      "metadata": {},
      "source": [
        "# Sample Essay and Score"
      ]
    },
    {
      "cell_type": "code",
      "execution_count": 4,
      "metadata": {},
      "outputs": [
        {
          "data": {
            "text/html": [
              "<div>\n",
              "<style scoped>\n",
              "    .dataframe tbody tr th:only-of-type {\n",
              "        vertical-align: middle;\n",
              "    }\n",
              "\n",
              "    .dataframe tbody tr th {\n",
              "        vertical-align: top;\n",
              "    }\n",
              "\n",
              "    .dataframe thead th {\n",
              "        text-align: right;\n",
              "    }\n",
              "</style>\n",
              "<table border=\"1\" class=\"dataframe\">\n",
              "  <thead>\n",
              "    <tr style=\"text-align: right;\">\n",
              "      <th></th>\n",
              "      <th>essay</th>\n",
              "      <th>rater1_domain1</th>\n",
              "      <th>rater2_domain1</th>\n",
              "      <th>rater3_domain1</th>\n",
              "      <th>domain1_score</th>\n",
              "    </tr>\n",
              "  </thead>\n",
              "  <tbody>\n",
              "    <tr>\n",
              "      <th>0</th>\n",
              "      <td>Dear local newspaper, I think effects computer...</td>\n",
              "      <td>4</td>\n",
              "      <td>4</td>\n",
              "      <td>NaN</td>\n",
              "      <td>8</td>\n",
              "    </tr>\n",
              "    <tr>\n",
              "      <th>1</th>\n",
              "      <td>Dear @CAPS1 @CAPS2, I believe that using compu...</td>\n",
              "      <td>5</td>\n",
              "      <td>4</td>\n",
              "      <td>NaN</td>\n",
              "      <td>9</td>\n",
              "    </tr>\n",
              "    <tr>\n",
              "      <th>2</th>\n",
              "      <td>Dear, @CAPS1 @CAPS2 @CAPS3 More and more peopl...</td>\n",
              "      <td>4</td>\n",
              "      <td>3</td>\n",
              "      <td>NaN</td>\n",
              "      <td>7</td>\n",
              "    </tr>\n",
              "  </tbody>\n",
              "</table>\n",
              "</div>"
            ],
            "text/plain": [
              "                                               essay  rater1_domain1  \\\n",
              "0  Dear local newspaper, I think effects computer...               4   \n",
              "1  Dear @CAPS1 @CAPS2, I believe that using compu...               5   \n",
              "2  Dear, @CAPS1 @CAPS2 @CAPS3 More and more peopl...               4   \n",
              "\n",
              "   rater2_domain1  rater3_domain1  domain1_score  \n",
              "0               4             NaN              8  \n",
              "1               4             NaN              9  \n",
              "2               3             NaN              7  "
            ]
          },
          "execution_count": 4,
          "metadata": {},
          "output_type": "execute_result"
        }
      ],
      "source": [
        "# domain1_score is the sum of 1 and 2\n",
        "df[['essay', 'rater1_domain1', 'rater2_domain1', 'rater3_domain1', 'domain1_score']].iloc[[0, 1, 2]]"
      ]
    },
    {
      "cell_type": "markdown",
      "metadata": {},
      "source": [
        "# Score Distribution"
      ]
    },
    {
      "cell_type": "code",
      "execution_count": 5,
      "metadata": {},
      "outputs": [
        {
          "name": "stderr",
          "output_type": "stream",
          "text": [
            "UserWarning: Matplotlib is currently using module://ipykernel.pylab.backend_inline, which is a non-GUI backend, so cannot show the figure.\n"
          ]
        },
        {
          "data": {
            "image/png": "[encoded data removed]",
            "text/plain": [
              "<Figure size 720x360 with 1 Axes>"
            ]
          },
          "metadata": {
            "needs_background": "light"
          },
          "output_type": "display_data"
        }
      ],
      "source": [
        "scores = df['domain1_score'].values\n",
        "\n",
        "# create a histogram of scores\n",
        "fig, ax = plt.subplots(1, 1, figsize=(10, 5))\n",
        "ax.hist(scores, bins=40)\n",
        "\n",
        "# title the graph\n",
        "ax.set_title('Distribution of Scores')\n",
        "\n",
        "# label the x and y axes\n",
        "ax.set_xlabel('Score')\n",
        "ax.set_ylabel('Frequency')\n",
        "\n",
        "# logarithmic scale on the y axis\n",
        "ax.set_yscale('log')\n",
        "\n",
        "fig.savefig('images/domain1_score_histogram.svg')\n",
        "\n",
        "fig.show()"
      ]
    },
    {
      "cell_type": "markdown",
      "metadata": {},
      "source": [
        "# Scoring Discrepancies"
      ]
    },
    {
      "cell_type": "code",
      "execution_count": 6,
      "metadata": {},
      "outputs": [
        {
          "data": {
            "image/png": "[encoded data removed]",
            "text/plain": [
              "<Figure size 720x360 with 1 Axes>"
            ]
          },
          "metadata": {
            "needs_background": "light"
          },
          "output_type": "display_data"
        }
      ],
      "source": [
        "scorea = df['rater1_domain1'].values\n",
        "scoreb = df['rater2_domain1'].values\n",
        "\n",
        "differences = abs(scorea - scoreb)\n",
        "\n",
        "fig, ax = plt.subplots(1, 1, figsize=(10, 5))\n",
        "ax.hist(differences, bins=10)\n",
        "\n",
        "# title the graph\n",
        "ax.set_title('Scoring Discrepancy Distribution')\n",
        "\n",
        "# label the x and y axes\n",
        "ax.set_xlabel('Difference Between Scores')\n",
        "ax.set_ylabel('Frequency')\n",
        "\n",
        "# logarithmic scale on the y axis\n",
        "ax.set_yscale('log')\n",
        "\n",
        "fig.savefig('images/domain1_score_discrepancy_histogram.svg')"
      ]
    },
    {
      "cell_type": "markdown",
      "metadata": {},
      "source": [
        "# Misspellings"
      ]
    },
    {
      "cell_type": "code",
      "execution_count": 3,
      "metadata": {},
      "outputs": [],
      "source": [
        "misspellings = df['misspelled'].values"
      ]
    },
    {
      "cell_type": "code",
      "execution_count": 5,
      "metadata": {},
      "outputs": [
        {
          "data": {
            "image/png": "[encoded data removed]",
            "text/plain": [
              "<Figure size 720x360 with 1 Axes>"
            ]
          },
          "metadata": {
            "needs_background": "light"
          },
          "output_type": "display_data"
        }
      ],
      "source": [
        "fig, ax = plt.subplots(1, 1, figsize=(10, 5))\n",
        "ax.hist(misspellings, bins=40)\n",
        "\n",
        "# title the graph\n",
        "ax.set_title('Misspellings Distribution')\n",
        "\n",
        "# label the x and y axes\n",
        "ax.set_xlabel('Number of Misspellings in Essay')\n",
        "ax.set_ylabel('Frequency')\n",
        "\n",
        "# logarithmic scale on the y axis\n",
        "ax.set_yscale('log')\n",
        "\n",
        "fig.savefig('images/misspellings_histogram.svg')"
      ]
    },
    {
      "cell_type": "markdown",
      "metadata": {},
      "source": [
        "# Word Count Distribution"
      ]
    },
    {
      "cell_type": "code",
      "execution_count": 5,
      "metadata": {},
      "outputs": [],
      "source": [
        "length = df['word_count'].values"
      ]
    },
    {
      "cell_type": "code",
      "execution_count": 6,
      "metadata": {},
      "outputs": [
        {
          "data": {
            "image/png": "[encoded data removed]",
            "text/plain": [
              "<Figure size 720x360 with 1 Axes>"
            ]
          },
          "metadata": {
            "needs_background": "light"
          },
          "output_type": "display_data"
        }
      ],
      "source": [
        "fig, ax = plt.subplots(1, 1, figsize=(10, 5))\n",
        "ax.hist(length, bins=40)\n",
        "\n",
        "# title the graph\n",
        "ax.set_title('Word Count Distribution')\n",
        "\n",
        "# label the x and y axes\n",
        "ax.set_xlabel('Word Count')\n",
        "ax.set_ylabel('Frequency')\n",
        "\n",
        "fig.savefig('images/word_count_histogram.svg')"
      ]
    }
  ],
  "metadata": {
    "colab": {
      "authorship_tag": "ABX9TyPk46mrjuqm8bYHWda4ghV8",
      "include_colab_link": true,
      "name": "AutomatedEssayGrader.ipynb",
      "provenance": []
    },
    "kernelspec": {
      "display_name": "Python 3.9.7 64-bit",
      "metadata": {
        "interpreter": {
          "hash": "9fdb9160099e666fbe1246fdc3611df6e34403c4a50d97f5ca90d3cacc6ef812"
        }
      },
      "name": "python3"
    },
    "language_info": {
      "codemirror_mode": {
        "name": "ipython",
        "version": 3
      },
      "file_extension": ".py",
      "mimetype": "text/x-python",
      "name": "python",
      "nbconvert_exporter": "python",
      "pygments_lexer": "ipython3",
      "version": "3.9.7"
    }
  },
  "nbformat": 4,
  "nbformat_minor": 0
}
